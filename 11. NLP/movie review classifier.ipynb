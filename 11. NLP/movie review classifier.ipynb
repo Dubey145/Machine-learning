{
 "cells": [
  {
   "cell_type": "code",
   "execution_count": 1,
   "metadata": {},
   "outputs": [],
   "source": [
    "from nltk.corpus import movie_reviews"
   ]
  },
  {
   "cell_type": "code",
   "execution_count": 6,
   "metadata": {},
   "outputs": [
    {
     "data": {
      "text/plain": [
       "['neg', 'pos']"
      ]
     },
     "execution_count": 6,
     "metadata": {},
     "output_type": "execute_result"
    }
   ],
   "source": [
    "movie_reviews.categories()"
   ]
  },
  {
   "cell_type": "code",
   "execution_count": 11,
   "metadata": {},
   "outputs": [
    {
     "data": {
      "text/plain": [
       "2000"
      ]
     },
     "execution_count": 11,
     "metadata": {},
     "output_type": "execute_result"
    }
   ],
   "source": [
    "len(movie_reviews.fileids())\n",
    "#we have about 2000 reviews "
   ]
  },
  {
   "cell_type": "code",
   "execution_count": 12,
   "metadata": {},
   "outputs": [
    {
     "data": {
      "text/plain": [
       "['capsule', ':', 'in', '2176', 'on', 'the', 'planet', ...]"
      ]
     },
     "execution_count": 12,
     "metadata": {},
     "output_type": "execute_result"
    }
   ],
   "source": [
    "movie_reviews.words(movie_reviews.fileids()[5])"
   ]
  },
  {
   "cell_type": "code",
   "execution_count": 13,
   "metadata": {},
   "outputs": [
    {
     "data": {
      "text/plain": [
       "[(<bound method CategorizedPlaintextCorpusReader.words of <CategorizedPlaintextCorpusReader in '/Users/aayush/nltk_data/corpora/movie_reviews'>>,\n",
       "  'neg'),\n",
       " (<bound method CategorizedPlaintextCorpusReader.words of <CategorizedPlaintextCorpusReader in '/Users/aayush/nltk_data/corpora/movie_reviews'>>,\n",
       "  'neg'),\n",
       " (<bound method CategorizedPlaintextCorpusReader.words of <CategorizedPlaintextCorpusReader in '/Users/aayush/nltk_data/corpora/movie_reviews'>>,\n",
       "  'neg'),\n",
       " (<bound method CategorizedPlaintextCorpusReader.words of <CategorizedPlaintextCorpusReader in '/Users/aayush/nltk_data/corpora/movie_reviews'>>,\n",
       "  'neg'),\n",
       " (<bound method CategorizedPlaintextCorpusReader.words of <CategorizedPlaintextCorpusReader in '/Users/aayush/nltk_data/corpora/movie_reviews'>>,\n",
       "  'neg')]"
      ]
     },
     "execution_count": 13,
     "metadata": {},
     "output_type": "execute_result"
    }
   ],
   "source": [
    "documents = []\n",
    "for category in movie_reviews.categories():\n",
    "    for fileid in movie_reviews.fileids(category):\n",
    "        documents.append((movie_reviews.words,category))\n",
    "documents[0:5] \n",
    "#in documents first we will have all -ve reviews and then all +ve reviews "
   ]
  },
  {
   "cell_type": "code",
   "execution_count": 16,
   "metadata": {},
   "outputs": [],
   "source": [
    "import random \n",
    "random.shuffle(documents)\n",
    "#shuffling for train test split"
   ]
  },
  {
   "cell_type": "code",
   "execution_count": null,
   "metadata": {},
   "outputs": [],
   "source": [
    "#now we have to clean the data ie remove stopwords and perform lemmatization"
   ]
  },
  {
   "cell_type": "code",
   "execution_count": null,
   "metadata": {},
   "outputs": [],
   "source": []
  },
  {
   "cell_type": "code",
   "execution_count": null,
   "metadata": {},
   "outputs": [],
   "source": []
  },
  {
   "cell_type": "code",
   "execution_count": null,
   "metadata": {},
   "outputs": [],
   "source": []
  }
 ],
 "metadata": {
  "kernelspec": {
   "display_name": "Python 3",
   "language": "python",
   "name": "python3"
  },
  "language_info": {
   "codemirror_mode": {
    "name": "ipython",
    "version": 3
   },
   "file_extension": ".py",
   "mimetype": "text/x-python",
   "name": "python",
   "nbconvert_exporter": "python",
   "pygments_lexer": "ipython3",
   "version": "3.8.5"
  }
 },
 "nbformat": 4,
 "nbformat_minor": 4
}
