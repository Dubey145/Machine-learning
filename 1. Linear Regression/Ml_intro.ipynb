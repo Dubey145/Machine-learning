{
 "cells": [
  {
   "cell_type": "markdown",
   "metadata": {},
   "source": [
    "# Machine Learning"
   ]
  },
  {
   "cell_type": "markdown",
   "metadata": {},
   "source": [
    "**machines can learn**"
   ]
  },
  {
   "cell_type": "markdown",
   "metadata": {},
   "source": [
    "# AI vs ML "
   ]
  },
  {
   "cell_type": "markdown",
   "metadata": {},
   "source": [
    "AI says lets somehow make a machine take smart decisions - this can be done even with a bunch of if and else or even with algorithms "
   ]
  },
  {
   "cell_type": "markdown",
   "metadata": {},
   "source": [
    "ML- uses algorithm and data to make future predictions"
   ]
  },
  {
   "cell_type": "markdown",
   "metadata": {},
   "source": [
    "ML is a subset of AI "
   ]
  },
  {
   "cell_type": "markdown",
   "metadata": {},
   "source": [
    "# Types of ML "
   ]
  },
  {
   "cell_type": "markdown",
   "metadata": {},
   "source": [
    "1. supervised learning - we have the input and output data and the model is provided with both, in the future if an input is given to the model, it has to predict the output\n",
    "-eg- we give 1000 houses data and we give the sale price, then we want to predict the price of a new house with this model so the model should be able to predict the price of the new house\n",
    "\n",
    "so through past data the future data is predicted  "
   ]
  },
  {
   "cell_type": "markdown",
   "metadata": {},
   "source": [
    "2. unsupervised learning - here the output is not known but we have a lot of data and we want to cluster that data\n",
    "-eg recommendation system"
   ]
  },
  {
   "cell_type": "markdown",
   "metadata": {},
   "source": [
    "3. reinforcement learning - how we are trained, positive move ->incentivised, and the model makes decision, if it makes it right it is given positive points otherwise negative points\n",
    "-eg self driving cars"
   ]
  },
  {
   "cell_type": "markdown",
   "metadata": {},
   "source": [
    "#### SUPERVISED LEARNING "
   ]
  },
  {
   "cell_type": "markdown",
   "metadata": {},
   "source": [
    "prediction of the future through past data \n",
    "The 2 sub types \n",
    "1. Regression - when a specific output has ti be calculated eg - house price prediction \n",
    "2. Classification - output is in one of the classes "
   ]
  },
  {
   "cell_type": "markdown",
   "metadata": {},
   "source": [
    "### how to solve a supervised learning problem"
   ]
  },
  {
   "cell_type": "markdown",
   "metadata": {},
   "source": [
    "1. for a supervised learning problem some training data is given \n",
    "2. in the training data there will be n+1 columns and n columns will be about the attributes and details and the last n+1 column will be the output\n",
    "3. if m rows are given we have m training points \n",
    "\n",
    "-steps\n",
    "1. to find data - can be from multiple sources and you will have to compile them\n",
    "2. Data loading and cleaning - getting rid of NaN, making files consistent, adding and dropping columns or rows etc\n",
    "3. pick and Train your Algorithms with train data - an algo is successful only if the test data output is satisfactory, \n",
    "4. Test the model with yest data"
   ]
  }
 ],
 "metadata": {
  "kernelspec": {
   "display_name": "Python 3",
   "language": "python",
   "name": "python3"
  },
  "language_info": {
   "codemirror_mode": {
    "name": "ipython",
    "version": 3
   },
   "file_extension": ".py",
   "mimetype": "text/x-python",
   "name": "python",
   "nbconvert_exporter": "python",
   "pygments_lexer": "ipython3",
   "version": "3.8.5"
  }
 },
 "nbformat": 4,
 "nbformat_minor": 4
}
