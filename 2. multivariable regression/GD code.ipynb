{
 "cells": [
  {
   "cell_type": "markdown",
   "metadata": {},
   "source": [
    "# Gradient Descent Code"
   ]
  },
  {
   "cell_type": "code",
   "execution_count": 1,
   "metadata": {},
   "outputs": [],
   "source": [
    "import numpy as np"
   ]
  },
  {
   "cell_type": "code",
   "execution_count": 15,
   "metadata": {},
   "outputs": [],
   "source": [
    "def step_gradient(points,rate,m,c):\n",
    "    mslope = 0\n",
    "    cslope = 0\n",
    "    n = len(points)\n",
    "    for i in range(n):\n",
    "        x = points[i,0]\n",
    "        y = points[i,1]\n",
    "        mslope += (-2/n) * (y-(m*x)-c)*x\n",
    "        cslope += (-2/n) * (y-(m*x)-c)\n",
    "    newm = m- rate*mslope\n",
    "    newc = c- rate*cslope\n",
    "    return newm,newc\n",
    "\n",
    "\n",
    "\n",
    "def gd(points,rate,iterations):\n",
    "    m=0 #starting with a random value of m and c \n",
    "    c=0\n",
    "    for i in range(iterations):\n",
    "        m,c = step_gradient(points, rate,m,c)\n",
    "        print(i,\"cost of the iteration \",cost(points,m,c))\n",
    "    return m,c\n",
    "    \n",
    "def cost(points,m,c):\n",
    "    total_cost = 0\n",
    "    n = len(points)\n",
    "    for i in range(n):\n",
    "        x = points[i,0]\n",
    "        y = points[i,1]\n",
    "        total_cost += (1/n) * ((y-(m*x)-c)**2)\n",
    "    return total_cost\n",
    "    \n",
    "def run():\n",
    "    data = np.loadtxt(\"data.csv\",delimiter=\",\")\n",
    "    rate = 0.0001\n",
    "    iterations = 10\n",
    "    m,c=gd(data,rate,iterations)\n",
    "    print (m,c)"
   ]
  },
  {
   "cell_type": "code",
   "execution_count": 5,
   "metadata": {},
   "outputs": [
    {
     "name": "stdout",
     "output_type": "stream",
     "text": [
      "nan nan\n"
     ]
    },
    {
     "name": "stderr",
     "output_type": "stream",
     "text": [
      "<ipython-input-4-647dd11e6154>:8: RuntimeWarning: overflow encountered in double_scalars\n",
      "  mslope += (-2/n) * (y-(m*x)-c)*x\n",
      "<ipython-input-4-647dd11e6154>:10: RuntimeWarning: invalid value encountered in double_scalars\n",
      "  newm = m-rate*mslope\n"
     ]
    }
   ],
   "source": [
    "run()\n",
    "#nan because of overflow"
   ]
  },
  {
   "cell_type": "code",
   "execution_count": 12,
   "metadata": {},
   "outputs": [
    {
     "name": "stdout",
     "output_type": "stream",
     "text": [
      "0 cost of the iteration  13005291.973556815\n",
      "1 cost of the iteration  31019902536.469387\n",
      "2 cost of the iteration  73988548887160.3\n",
      "3 cost of the iteration  1.7647719491877968e+17\n",
      "4 cost of the iteration  4.2093270911349044e+20\n",
      "5 cost of the iteration  1.0040070371878258e+24\n",
      "6 cost of the iteration  2.3947536242684687e+27\n",
      "7 cost of the iteration  5.711956897244452e+30\n",
      "8 cost of the iteration  1.3624137057500002e+34\n",
      "9 cost of the iteration  3.24962379620003e+37\n",
      "-1.1417350281641042e+17 -2244045410520460.0\n"
     ]
    }
   ],
   "source": [
    "run()\n",
    "#the cost keeps increasing\n",
    "#and that is why m and c are reaching inf and then nan\n"
   ]
  },
  {
   "cell_type": "code",
   "execution_count": 16,
   "metadata": {},
   "outputs": [
    {
     "name": "stdout",
     "output_type": "stream",
     "text": [
      "0 cost of the iteration  1484.5865574086486\n",
      "1 cost of the iteration  457.8542575737672\n",
      "2 cost of the iteration  199.5099857255389\n",
      "3 cost of the iteration  134.50591058200533\n",
      "4 cost of the iteration  118.1496934223995\n",
      "5 cost of the iteration  114.0341490603815\n",
      "6 cost of the iteration  112.99857731713657\n",
      "7 cost of the iteration  112.73798187568467\n",
      "8 cost of the iteration  112.6723843590911\n",
      "9 cost of the iteration  112.65585181499745\n",
      "1.47741737554838 0.029639347874732384\n"
     ]
    }
   ],
   "source": [
    "run()"
   ]
  }
 ],
 "metadata": {
  "kernelspec": {
   "display_name": "Python 3",
   "language": "python",
   "name": "python3"
  },
  "language_info": {
   "codemirror_mode": {
    "name": "ipython",
    "version": 3
   },
   "file_extension": ".py",
   "mimetype": "text/x-python",
   "name": "python",
   "nbconvert_exporter": "python",
   "pygments_lexer": "ipython3",
   "version": "3.8.5"
  }
 },
 "nbformat": 4,
 "nbformat_minor": 4
}
