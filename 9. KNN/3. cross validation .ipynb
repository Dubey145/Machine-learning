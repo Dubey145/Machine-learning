{
 "cells": [
  {
   "cell_type": "markdown",
   "metadata": {},
   "source": [
    "# Cross Validation"
   ]
  },
  {
   "cell_type": "markdown",
   "metadata": {},
   "source": [
    "- suppose there is a classifier and we have to find the value of a parameter p\n",
    "- we can feed the training data and choose p accordingly \n",
    "- but this would lead to overfitting as the error on the training data will be minimum but on test data it might not be\n",
    "- we also cannot use our testing data to decide p because that will make our testing data turn into training data "
   ]
  },
  {
   "cell_type": "markdown",
   "metadata": {},
   "source": [
    "what to do :- \n",
    "- split the **training** data into k parts \n",
    "- train model on k-1 parts \n",
    "- then test on kth part\n",
    "<pre>\n",
    "this is cross validation \n",
    "Completely done on training data\n",
    "</pre>"
   ]
  },
  {
   "cell_type": "markdown",
   "metadata": {},
   "source": [
    "performing cross validation in sklearn"
   ]
  },
  {
   "cell_type": "code",
   "execution_count": 3,
   "metadata": {},
   "outputs": [],
   "source": [
    "from sklearn import datasets\n",
    "from sklearn.model_selection import train_test_split\n",
    "from sklearn.model_selection import cross_val_score\n",
    "from sklearn.linear_model import LinearRegression"
   ]
  },
  {
   "cell_type": "code",
   "execution_count": 4,
   "metadata": {},
   "outputs": [],
   "source": [
    "iris = datasets.load_iris()\n",
    "xtrain,xtest,ytrain,ytest = train_test_split(iris.data,iris.target,test_size = 0.2)"
   ]
  },
  {
   "cell_type": "code",
   "execution_count": 5,
   "metadata": {},
   "outputs": [],
   "source": [
    "lr = LinearRegression()"
   ]
  },
  {
   "cell_type": "code",
   "execution_count": 10,
   "metadata": {},
   "outputs": [
    {
     "data": {
      "text/plain": [
       "array([0.94214246, 0.86496041, 0.88754784, 0.91719693, 0.94929786])"
      ]
     },
     "execution_count": 10,
     "metadata": {},
     "output_type": "execute_result"
    }
   ],
   "source": [
    "#using cross validation \n",
    "score= cross_val_score(lr,xtrain,ytrain)\n",
    "#data splitted into 5 sets so 5 scores \n",
    "#take the average to know how well the classifier is performing \n",
    "score"
   ]
  }
 ],
 "metadata": {
  "kernelspec": {
   "display_name": "Python 3",
   "language": "python",
   "name": "python3"
  },
  "language_info": {
   "codemirror_mode": {
    "name": "ipython",
    "version": 3
   },
   "file_extension": ".py",
   "mimetype": "text/x-python",
   "name": "python",
   "nbconvert_exporter": "python",
   "pygments_lexer": "ipython3",
   "version": "3.8.5"
  }
 },
 "nbformat": 4,
 "nbformat_minor": 4
}
